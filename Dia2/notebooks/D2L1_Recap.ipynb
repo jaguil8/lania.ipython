{
 "cells": [
  {
   "cell_type": "markdown",
   "metadata": {},
   "source": [
    "# Dia 2, Libreta 1\n",
    "Recapitulando, contamos con una conexion al dispositivo Android a traves de la SL4A. En caso de no tener su sitema configurado, favor de revisar el contenido del Dia 1.\n",
    "\n",
    "En esta primera libreta haremos algunas pruebas con el dispositivo desde Android, para despues comenzar a interactuar con los sensores disponibles."
   ]
  },
  {
   "cell_type": "code",
   "execution_count": 6,
   "metadata": {
    "collapsed": true
   },
   "outputs": [],
   "source": [
    "import android"
   ]
  },
  {
   "cell_type": "code",
   "execution_count": 3,
   "metadata": {
    "collapsed": true
   },
   "outputs": [],
   "source": [
    "import os"
   ]
  },
  {
   "cell_type": "code",
   "execution_count": 5,
   "metadata": {
    "collapsed": false
   },
   "outputs": [
    {
     "data": {
      "text/plain": [
       "['',\n",
       " 'C:\\\\Users\\\\jaguilera\\\\AppData\\\\Local\\\\Continuum\\\\Anaconda\\\\python27.zip',\n",
       " 'C:\\\\Users\\\\jaguilera\\\\AppData\\\\Local\\\\Continuum\\\\Anaconda\\\\DLLs',\n",
       " 'C:\\\\Users\\\\jaguilera\\\\AppData\\\\Local\\\\Continuum\\\\Anaconda\\\\lib',\n",
       " 'C:\\\\Users\\\\jaguilera\\\\AppData\\\\Local\\\\Continuum\\\\Anaconda\\\\lib\\\\plat-win',\n",
       " 'C:\\\\Users\\\\jaguilera\\\\AppData\\\\Local\\\\Continuum\\\\Anaconda\\\\lib\\\\lib-tk',\n",
       " 'C:\\\\Users\\\\jaguilera\\\\AppData\\\\Local\\\\Continuum\\\\Anaconda',\n",
       " 'c:\\\\users\\\\jaguilera\\\\appdata\\\\local\\\\continuum\\\\anaconda\\\\lib\\\\site-packages\\\\sphinx-1.3.1-py2.7.egg',\n",
       " 'c:\\\\users\\\\jaguilera\\\\appdata\\\\local\\\\continuum\\\\anaconda\\\\lib\\\\site-packages\\\\setuptools-18.4-py2.7.egg',\n",
       " 'C:\\\\Users\\\\jaguilera\\\\AppData\\\\Local\\\\Continuum\\\\Anaconda\\\\lib\\\\site-packages',\n",
       " 'C:\\\\Users\\\\jaguilera\\\\AppData\\\\Local\\\\Continuum\\\\Anaconda\\\\lib\\\\site-packages\\\\cryptography-0.9.1-py2.7-win-amd64.egg',\n",
       " 'C:\\\\Users\\\\jaguilera\\\\AppData\\\\Local\\\\Continuum\\\\Anaconda\\\\lib\\\\site-packages\\\\win32',\n",
       " 'C:\\\\Users\\\\jaguilera\\\\AppData\\\\Local\\\\Continuum\\\\Anaconda\\\\lib\\\\site-packages\\\\win32\\\\lib',\n",
       " 'C:\\\\Users\\\\jaguilera\\\\AppData\\\\Local\\\\Continuum\\\\Anaconda\\\\lib\\\\site-packages\\\\Pythonwin',\n",
       " 'C:\\\\Users\\\\jaguilera\\\\AppData\\\\Local\\\\Continuum\\\\Anaconda\\\\lib\\\\site-packages\\\\IPython\\\\extensions',\n",
       " 'C:\\\\Users\\\\jaguilera\\\\.ipython']"
      ]
     },
     "execution_count": 5,
     "metadata": {},
     "output_type": "execute_result"
    }
   ],
   "source": [
    "os.sys.path"
   ]
  },
  {
   "cell_type": "code",
   "execution_count": 1,
   "metadata": {
    "collapsed": false
   },
   "outputs": [
    {
     "name": "stdout",
     "output_type": "stream",
     "text": [
      "List of devices attached\n",
      "* daemon not running. starting it now on port 5037 *\n",
      "* daemon started successfully *\n",
      "02157df288f41912\tdevice\n",
      "\n"
     ]
    }
   ],
   "source": [
    "!adb devices"
   ]
  },
  {
   "cell_type": "code",
   "execution_count": 2,
   "metadata": {
    "collapsed": true
   },
   "outputs": [],
   "source": [
    "!adb forward tcp:9999 tcp:49999"
   ]
  },
  {
   "cell_type": "code",
   "execution_count": 17,
   "metadata": {
    "collapsed": false
   },
   "outputs": [],
   "source": [
    "droide=android.Android()"
   ]
  },
  {
   "cell_type": "code",
   "execution_count": 18,
   "metadata": {
    "collapsed": false
   },
   "outputs": [],
   "source": [
    "nombre = droide.dialogGetInput(\"Hola!\", \"Como te llamas?\")"
   ]
  },
  {
   "cell_type": "code",
   "execution_count": 11,
   "metadata": {
    "collapsed": false
   },
   "outputs": [
    {
     "name": "stdout",
     "output_type": "stream",
     "text": [
      "Result(id=0, result=u'Jesus', error=None)\n"
     ]
    }
   ],
   "source": [
    "print nombre"
   ]
  },
  {
   "cell_type": "code",
   "execution_count": 12,
   "metadata": {
    "collapsed": false
   },
   "outputs": [
    {
     "data": {
      "text/plain": [
       "Result(id=1, result=None, error=None)"
      ]
     },
     "execution_count": 12,
     "metadata": {},
     "output_type": "execute_result"
    }
   ],
   "source": [
    "droide.makeToast(\"Hola, %s\" % nombre.result)"
   ]
  },
  {
   "cell_type": "code",
   "execution_count": 13,
   "metadata": {
    "collapsed": false
   },
   "outputs": [
    {
     "data": {
      "text/plain": [
       "Result(id=2, result=None, error=None)"
      ]
     },
     "execution_count": 13,
     "metadata": {},
     "output_type": "execute_result"
    }
   ],
   "source": [
    "droide.ttsSpeak(\"Hola, %s\" % nombre.result)"
   ]
  },
  {
   "cell_type": "code",
   "execution_count": 29,
   "metadata": {
    "collapsed": false
   },
   "outputs": [
    {
     "data": {
      "text/plain": [
       "u'prueba.csv'"
      ]
     },
     "execution_count": 29,
     "metadata": {},
     "output_type": "execute_result"
    }
   ],
   "source": [
    "droide=android.Android()\n",
    "archivo = droide.dialogGetInput(\"¿Nombre de archivo para guardar?\")\n",
    "archivo.result+\".csv\""
   ]
  }
 ],
 "metadata": {
  "kernelspec": {
   "display_name": "Python 2",
   "language": "python",
   "name": "python2"
  },
  "language_info": {
   "codemirror_mode": {
    "name": "ipython",
    "version": 2
   },
   "file_extension": ".py",
   "mimetype": "text/x-python",
   "name": "python",
   "nbconvert_exporter": "python",
   "pygments_lexer": "ipython2",
   "version": "2.7.10"
  }
 },
 "nbformat": 4,
 "nbformat_minor": 0
}
