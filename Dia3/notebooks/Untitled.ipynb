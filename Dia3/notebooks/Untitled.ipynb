{
 "cells": [
  {
   "cell_type": "code",
   "execution_count": 3,
   "metadata": {
    "collapsed": true
   },
   "outputs": [],
   "source": [
    "%matplotlib inline\n",
    "import matplotlib.pyplot as plt\n",
    "import sys, os, re, time\n",
    "import numpy as np\n",
    "import cv2\n",
    "import android"
   ]
  },
  {
   "cell_type": "code",
   "execution_count": 1,
   "metadata": {
    "collapsed": false
   },
   "outputs": [
    {
     "name": "stdout",
     "output_type": "stream",
     "text": [
      "List of devices attached\n",
      "* daemon not running. starting it now on port 5037 *\n",
      "* daemon started successfully *\n",
      "02157df288f41912\tdevice\n",
      "\n"
     ]
    }
   ],
   "source": [
    "!adb devices"
   ]
  },
  {
   "cell_type": "code",
   "execution_count": null,
   "metadata": {
    "collapsed": true
   },
   "outputs": [],
   "source": [
    "!adb forward tcp:9999 tcp:49999\n",
    "        \n"
   ]
  },
  {
   "cell_type": "code",
   "execution_count": 9,
   "metadata": {
    "collapsed": false
   },
   "outputs": [
    {
     "name": "stdout",
     "output_type": "stream",
     "text": [
      "Hecho sin errores...\n"
     ]
    }
   ],
   "source": [
    "droide = android.Android()\n",
    "\n",
    "delay = droide.dialogGetInput(\n",
    "'Entrada 1', 'Demora antes de iniciar?', '15').result\n",
    "\n",
    "numOfShots = droide.dialogGetInput(\n",
    "'Entrada 2', 'Total de imagenes a capturar?', '5').result\n",
    "\n",
    "delayBetweenShots = droide.dialogGetInput(\n",
    "'Entrada 3', 'Demora (segs) entre capturas?', '5').result\n",
    "\n",
    "droide.ttsSpeak('Tomando fotos en' + delay + 'segundos')\n",
    "time.sleep(int(delay))\n",
    "counter = 1\n",
    "droide.ttsSpeak('Tomando foto')\n",
    "\n",
    "while counter <= int(numOfShots):\n",
    "    droide.cameraCapturePicture('/sdcard/DCIM/CAMERA/Clase/foto_' + str(counter) + '_.jpg')\n",
    "    counter += 1\n",
    "    if counter != int(numOfShots):\n",
    "        time.sleep(int(delayBetweenShots))\n",
    "print 'Hecho sin errores...'\n",
    "\n",
    "droide.ttsSpeak('Terminado sin errores...')\n",
    "\n",
    "del droide"
   ]
  },
  {
   "cell_type": "code",
   "execution_count": 10,
   "metadata": {
    "collapsed": false
   },
   "outputs": [
    {
     "name": "stderr",
     "output_type": "stream",
     "text": [
      "pull: building file list...\n",
      "pull: /sdcard/DCIM/CAMERA/Clase/foto_5_.jpg -> ./foto_5_.jpg\n",
      "pull: /sdcard/DCIM/CAMERA/Clase/foto_4_.jpg -> ./foto_4_.jpg\n",
      "pull: /sdcard/DCIM/CAMERA/Clase/foto_3_.jpg -> ./foto_3_.jpg\n",
      "pull: /sdcard/DCIM/CAMERA/Clase/foto_2_.jpg -> ./foto_2_.jpg\n",
      "pull: /sdcard/DCIM/CAMERA/Clase/foto_1_.jpg -> ./foto_1_.jpg\n",
      "5 files pulled. 0 files skipped.\n",
      "4390 KB/s (22152303 bytes in 4.927s)\n"
     ]
    }
   ],
   "source": [
    "!adb pull /sdcard/DCIM/CAMERA/Clase/ ./"
   ]
  }
 ],
 "metadata": {
  "kernelspec": {
   "display_name": "Python 2",
   "language": "python",
   "name": "python2"
  },
  "language_info": {
   "codemirror_mode": {
    "name": "ipython",
    "version": 2
   },
   "file_extension": ".py",
   "mimetype": "text/x-python",
   "name": "python",
   "nbconvert_exporter": "python",
   "pygments_lexer": "ipython2",
   "version": "2.7.10"
  }
 },
 "nbformat": 4,
 "nbformat_minor": 0
}
